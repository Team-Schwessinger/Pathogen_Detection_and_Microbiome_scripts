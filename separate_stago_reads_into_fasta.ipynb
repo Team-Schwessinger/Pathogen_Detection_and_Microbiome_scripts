{
 "cells": [
  {
   "cell_type": "markdown",
   "metadata": {},
   "source": [
    "This is a notebook used to filter out stago reads from each sequencing run and put into a fasta file for blast analysis\n",
    "\n",
    "generally it contains two simple steps:\n",
    "1. cut the readid from the final dataframe of each flowcell\n",
    "2. put into a txt file"
   ]
  },
  {
   "cell_type": "code",
   "execution_count": null,
   "metadata": {},
   "outputs": [],
   "source": [
    "import numpy as np\n",
    "import os\n",
    "import pandas as pd\n",
    "import matplotlib.pyplot as plt\n",
    "import argparse\n",
    "import subprocess as sub\n",
    "from ete3 import NCBITaxa\n",
    "ncbi = NCBITaxa()"
   ]
  },
  {
   "cell_type": "code",
   "execution_count": null,
   "metadata": {},
   "outputs": [],
   "source": [
    "# here just used replicate 4 as an example again\n",
    "BASEDIR = '/home/yiheng/data/20170617_replicate4'\n",
    "\n",
    "# here we define the folder name of the dataframe it created by capturing the folder from the BASDIR\n",
    "folder_name = os.path.basename(BASEDIR)\n",
    "column_name = folder_name.split('_')[-1]"
   ]
  },
  {
   "cell_type": "code",
   "execution_count": null,
   "metadata": {},
   "outputs": [],
   "source": [
    "# first check if the analysis folder is there\n",
    "folder_list = 'analysis  basecalled_data  scripts  tracking  workspace'.split(' ')\n",
    "for x in range(0,folder_list.count('')):\n",
    "    folder_list.remove('')\n",
    "#fix this test\n",
    "if not set(os.listdir(os.path.abspath(BASEDIR))) == set (folder_list):\n",
    "    print(\"Something wrong with basefolder. check it please.\")"
   ]
  },
  {
   "cell_type": "code",
   "execution_count": null,
   "metadata": {},
   "outputs": [],
   "source": [
    "# get the dataframe there\n",
    "dataframe = os.path.join(BASEDIR, 'analysis', 'summary_df_%s.tab' % folder_name)\n",
    "sum_df = pd.read_csv(dataframe, sep='\\t')\n",
    "# set the display option so easier to check through writing"
   ]
  },
  {
   "cell_type": "code",
   "execution_count": null,
   "metadata": {},
   "outputs": [],
   "source": [
    "# fills the nan with T/F for easier handling\n",
    "sum_df.sseqid_rg.fillna(False, inplace=True)\n",
    "# filter out the rg blast hit\n",
    "rgblasthit_reads = sum_df[(sum_df.sseqid_rg != False) & (sum_df.passes_filtering == True) & (sum_df.pc_survived == True) & (sum_df.nl_survived == True)]\n",
    "pd.set_option('display.max_columns', None)\n",
    "if column_name == 'replicate3' or column_name == 'replicate4':\n",
    "    filtered_barcode_reads = rgblasthit_reads[(rgblasthit_reads.barcode_arrangement == 'barcode01') | \n",
    "                                              (rgblasthit_reads.barcode_arrangement == 'barcode02') | \n",
    "                                              (rgblasthit_reads.barcode_arrangement == 'barcode03') | \n",
    "                                              (rgblasthit_reads.barcode_arrangement == 'barcode04') |\n",
    "                                              (rgblasthit_reads.barcode_arrangement == 'barcode05')]\n",
    "    barcode_list = ['barcode01', 'barcode02', 'barcode03', 'barcode04', 'barcode05']\n",
    "else:\n",
    "    pass\n",
    "\n",
    "if column_name == 'replicate1':\n",
    "    filtered_barcode_reads = rgblasthit_reads[(rgblasthit_reads.barcode_arrangement == 'barcode06') | \n",
    "                                              (rgblasthit_reads.barcode_arrangement == 'barcode02') | \n",
    "                                              (rgblasthit_reads.barcode_arrangement == 'barcode03') | \n",
    "                                              (rgblasthit_reads.barcode_arrangement == 'barcode04') |\n",
    "                                              (rgblasthit_reads.barcode_arrangement == 'barcode05')]\n",
    "    barcode_list = ['barcode06', 'barcode02', 'barcode03', 'barcode04', 'barcode05']\n",
    "else:\n",
    "    pass\n",
    "\n",
    "if column_name == 'replicate2':\n",
    "    filtered_barcode_reads = rgblasthit_reads[(rgblasthit_reads.barcode_arrangement == 'barcode07') | \n",
    "                                              (rgblasthit_reads.barcode_arrangement == 'barcode08') | \n",
    "                                              (rgblasthit_reads.barcode_arrangement == 'barcode09') | \n",
    "                                              (rgblasthit_reads.barcode_arrangement == 'barcode10') |\n",
    "                                              (rgblasthit_reads.barcode_arrangement == 'barcode11')]\n",
    "    barcode_list = ['barcode07', 'barcode08', 'barcode09', 'barcode10', 'barcode11']\n",
    "else:\n",
    "    pass"
   ]
  },
  {
   "cell_type": "code",
   "execution_count": null,
   "metadata": {},
   "outputs": [],
   "source": [
    "stago_reads = filtered_barcode_reads[filtered_barcode_reads.sseqid_rg.str.contains('Stago')]"
   ]
  },
  {
   "cell_type": "code",
   "execution_count": null,
   "metadata": {},
   "outputs": [],
   "source": [
    "stago_reads.read_id.to_csv(BASEDIR + '/analysis/%s_stagohit.txt' % column_name, index=None)"
   ]
  },
  {
   "cell_type": "code",
   "execution_count": null,
   "metadata": {},
   "outputs": [],
   "source": [
    "# now get all the rghityes fasta file together into one fasta file into analysis folder for filter\n",
    "if column_name == 'replicate3' or column_name == 'replicate4':\n",
    "    cmd = r'cat %s/workspace/%s/Hu_%s_albacore202.chopped.rghityes.*.fasta >> %s/analysis/%s_rghityes.fasta'\n",
    "     \n",
    "if column_name == 'replicate1' or column_name == 'replicate2':\n",
    "    cmd = r'cat %s/workspace/%s/Wagga_%s_albacore202.chopped.rghityes.*.fasta >> %s/analysis/%s_rghityes.fasta'\n",
    "    \n",
    "for x in barcode_list:\n",
    "        cmd_stderr = sub.check_output(cmd % (BASEDIR, x, column_name, BASEDIR, folder_name), shell=True, stderr=sub.STDOUT)\n",
    "        print(cmd)"
   ]
  },
  {
   "cell_type": "code",
   "execution_count": null,
   "metadata": {},
   "outputs": [],
   "source": [
    "# now filter out the stago reads from the five samples (five barcodes) using filterbyname.sh script\n",
    "filter_command = r'filterbyname.sh in=%s/analysis/%s_rghityes.fasta out=%s/analysis/%s_stago.fasta names=%s/analysis/%s_stagohit.txt include=t'\n",
    "filter_command_stderr = sub.check_output(filter_command % (BASEDIR, folder_name, BASEDIR, column_name, BASEDIR, column_name), shell=True, stderr=sub.STDOUT)\n",
    "print(filter_command)"
   ]
  }
 ],
 "metadata": {
  "kernelspec": {
   "display_name": "Python 3",
   "language": "python",
   "name": "python3"
  },
  "language_info": {
   "codemirror_mode": {
    "name": "ipython",
    "version": 3
   },
   "file_extension": ".py",
   "mimetype": "text/x-python",
   "name": "python",
   "nbconvert_exporter": "python",
   "pygments_lexer": "ipython3",
   "version": "3.6.1"
  }
 },
 "nbformat": 4,
 "nbformat_minor": 2
}
